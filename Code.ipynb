{
 "cells": [
  {
   "cell_type": "markdown",
   "metadata": {
    "id": "CLg9xTDBDYYY"
   },
   "source": [
    "# install librarys"
   ]
  },
  {
   "cell_type": "code",
   "execution_count": 1,
   "metadata": {
    "colab": {
     "base_uri": "https://localhost:8080/"
    },
    "executionInfo": {
     "elapsed": 24963,
     "status": "ok",
     "timestamp": 1760084309661,
     "user": {
      "displayName": "محمد حسین",
      "userId": "13927992254442647854"
     },
     "user_tz": -210
    },
    "id": "V-pYz7jY0Ntu",
    "outputId": "d9689e3c-8e79-4ff7-d741-ff7cd5cdad26"
   },
   "outputs": [
    {
     "name": "stdout",
     "output_type": "stream",
     "text": [
      "Requirement already satisfied: langchain_openai in /usr/local/lib/python3.12/dist-packages (0.3.35)\n",
      "Requirement already satisfied: langchain-core<1.0.0,>=0.3.78 in /usr/local/lib/python3.12/dist-packages (from langchain_openai) (0.3.79)\n",
      "Requirement already satisfied: openai<3.0.0,>=1.104.2 in /usr/local/lib/python3.12/dist-packages (from langchain_openai) (1.109.1)\n",
      "Requirement already satisfied: tiktoken<1.0.0,>=0.7.0 in /usr/local/lib/python3.12/dist-packages (from langchain_openai) (0.11.0)\n",
      "Requirement already satisfied: langsmith<1.0.0,>=0.3.45 in /usr/local/lib/python3.12/dist-packages (from langchain-core<1.0.0,>=0.3.78->langchain_openai) (0.4.31)\n",
      "Requirement already satisfied: tenacity!=8.4.0,<10.0.0,>=8.1.0 in /usr/local/lib/python3.12/dist-packages (from langchain-core<1.0.0,>=0.3.78->langchain_openai) (8.5.0)\n",
      "Requirement already satisfied: jsonpatch<2.0.0,>=1.33.0 in /usr/local/lib/python3.12/dist-packages (from langchain-core<1.0.0,>=0.3.78->langchain_openai) (1.33)\n",
      "Requirement already satisfied: PyYAML<7.0.0,>=5.3.0 in /usr/local/lib/python3.12/dist-packages (from langchain-core<1.0.0,>=0.3.78->langchain_openai) (6.0.3)\n",
      "Requirement already satisfied: typing-extensions<5.0.0,>=4.7.0 in /usr/local/lib/python3.12/dist-packages (from langchain-core<1.0.0,>=0.3.78->langchain_openai) (4.15.0)\n",
      "Requirement already satisfied: packaging<26.0.0,>=23.2.0 in /usr/local/lib/python3.12/dist-packages (from langchain-core<1.0.0,>=0.3.78->langchain_openai) (25.0)\n",
      "Requirement already satisfied: pydantic<3.0.0,>=2.7.4 in /usr/local/lib/python3.12/dist-packages (from langchain-core<1.0.0,>=0.3.78->langchain_openai) (2.12.0)\n",
      "Requirement already satisfied: anyio<5,>=3.5.0 in /usr/local/lib/python3.12/dist-packages (from openai<3.0.0,>=1.104.2->langchain_openai) (4.11.0)\n",
      "Requirement already satisfied: distro<2,>=1.7.0 in /usr/local/lib/python3.12/dist-packages (from openai<3.0.0,>=1.104.2->langchain_openai) (1.9.0)\n",
      "Requirement already satisfied: httpx<1,>=0.23.0 in /usr/local/lib/python3.12/dist-packages (from openai<3.0.0,>=1.104.2->langchain_openai) (0.28.1)\n",
      "Requirement already satisfied: jiter<1,>=0.4.0 in /usr/local/lib/python3.12/dist-packages (from openai<3.0.0,>=1.104.2->langchain_openai) (0.11.0)\n",
      "Requirement already satisfied: sniffio in /usr/local/lib/python3.12/dist-packages (from openai<3.0.0,>=1.104.2->langchain_openai) (1.3.1)\n",
      "Requirement already satisfied: tqdm>4 in /usr/local/lib/python3.12/dist-packages (from openai<3.0.0,>=1.104.2->langchain_openai) (4.67.1)\n",
      "Requirement already satisfied: regex>=2022.1.18 in /usr/local/lib/python3.12/dist-packages (from tiktoken<1.0.0,>=0.7.0->langchain_openai) (2024.11.6)\n",
      "Requirement already satisfied: requests>=2.26.0 in /usr/local/lib/python3.12/dist-packages (from tiktoken<1.0.0,>=0.7.0->langchain_openai) (2.32.5)\n",
      "Requirement already satisfied: idna>=2.8 in /usr/local/lib/python3.12/dist-packages (from anyio<5,>=3.5.0->openai<3.0.0,>=1.104.2->langchain_openai) (3.10)\n",
      "Requirement already satisfied: certifi in /usr/local/lib/python3.12/dist-packages (from httpx<1,>=0.23.0->openai<3.0.0,>=1.104.2->langchain_openai) (2025.8.3)\n",
      "Requirement already satisfied: httpcore==1.* in /usr/local/lib/python3.12/dist-packages (from httpx<1,>=0.23.0->openai<3.0.0,>=1.104.2->langchain_openai) (1.0.9)\n",
      "Requirement already satisfied: h11>=0.16 in /usr/local/lib/python3.12/dist-packages (from httpcore==1.*->httpx<1,>=0.23.0->openai<3.0.0,>=1.104.2->langchain_openai) (0.16.0)\n",
      "Requirement already satisfied: jsonpointer>=1.9 in /usr/local/lib/python3.12/dist-packages (from jsonpatch<2.0.0,>=1.33.0->langchain-core<1.0.0,>=0.3.78->langchain_openai) (3.0.0)\n",
      "Requirement already satisfied: orjson>=3.9.14 in /usr/local/lib/python3.12/dist-packages (from langsmith<1.0.0,>=0.3.45->langchain-core<1.0.0,>=0.3.78->langchain_openai) (3.11.3)\n",
      "Requirement already satisfied: requests-toolbelt>=1.0.0 in /usr/local/lib/python3.12/dist-packages (from langsmith<1.0.0,>=0.3.45->langchain-core<1.0.0,>=0.3.78->langchain_openai) (1.0.0)\n",
      "Requirement already satisfied: zstandard>=0.23.0 in /usr/local/lib/python3.12/dist-packages (from langsmith<1.0.0,>=0.3.45->langchain-core<1.0.0,>=0.3.78->langchain_openai) (0.25.0)\n",
      "Requirement already satisfied: annotated-types>=0.6.0 in /usr/local/lib/python3.12/dist-packages (from pydantic<3.0.0,>=2.7.4->langchain-core<1.0.0,>=0.3.78->langchain_openai) (0.7.0)\n",
      "Requirement already satisfied: pydantic-core==2.41.1 in /usr/local/lib/python3.12/dist-packages (from pydantic<3.0.0,>=2.7.4->langchain-core<1.0.0,>=0.3.78->langchain_openai) (2.41.1)\n",
      "Requirement already satisfied: typing-inspection>=0.4.2 in /usr/local/lib/python3.12/dist-packages (from pydantic<3.0.0,>=2.7.4->langchain-core<1.0.0,>=0.3.78->langchain_openai) (0.4.2)\n",
      "Requirement already satisfied: charset_normalizer<4,>=2 in /usr/local/lib/python3.12/dist-packages (from requests>=2.26.0->tiktoken<1.0.0,>=0.7.0->langchain_openai) (3.4.3)\n",
      "Requirement already satisfied: urllib3<3,>=1.21.1 in /usr/local/lib/python3.12/dist-packages (from requests>=2.26.0->tiktoken<1.0.0,>=0.7.0->langchain_openai) (2.5.0)\n",
      "Requirement already satisfied: huggingface_hub in /usr/local/lib/python3.12/dist-packages (0.35.3)\n",
      "Requirement already satisfied: filelock in /usr/local/lib/python3.12/dist-packages (from huggingface_hub) (3.19.1)\n",
      "Requirement already satisfied: fsspec>=2023.5.0 in /usr/local/lib/python3.12/dist-packages (from huggingface_hub) (2025.3.0)\n",
      "Requirement already satisfied: packaging>=20.9 in /usr/local/lib/python3.12/dist-packages (from huggingface_hub) (25.0)\n",
      "Requirement already satisfied: pyyaml>=5.1 in /usr/local/lib/python3.12/dist-packages (from huggingface_hub) (6.0.3)\n",
      "Requirement already satisfied: requests in /usr/local/lib/python3.12/dist-packages (from huggingface_hub) (2.32.5)\n",
      "Requirement already satisfied: tqdm>=4.42.1 in /usr/local/lib/python3.12/dist-packages (from huggingface_hub) (4.67.1)\n",
      "Requirement already satisfied: typing-extensions>=3.7.4.3 in /usr/local/lib/python3.12/dist-packages (from huggingface_hub) (4.15.0)\n",
      "Requirement already satisfied: hf-xet<2.0.0,>=1.1.3 in /usr/local/lib/python3.12/dist-packages (from huggingface_hub) (1.1.10)\n",
      "Requirement already satisfied: charset_normalizer<4,>=2 in /usr/local/lib/python3.12/dist-packages (from requests->huggingface_hub) (3.4.3)\n",
      "Requirement already satisfied: idna<4,>=2.5 in /usr/local/lib/python3.12/dist-packages (from requests->huggingface_hub) (3.10)\n",
      "Requirement already satisfied: urllib3<3,>=1.21.1 in /usr/local/lib/python3.12/dist-packages (from requests->huggingface_hub) (2.5.0)\n",
      "Requirement already satisfied: certifi>=2017.4.17 in /usr/local/lib/python3.12/dist-packages (from requests->huggingface_hub) (2025.8.3)\n",
      "Requirement already satisfied: langchain_community in /usr/local/lib/python3.12/dist-packages (0.3.31)\n",
      "Requirement already satisfied: langchain-core<2.0.0,>=0.3.78 in /usr/local/lib/python3.12/dist-packages (from langchain_community) (0.3.79)\n",
      "Requirement already satisfied: langchain<2.0.0,>=0.3.27 in /usr/local/lib/python3.12/dist-packages (from langchain_community) (0.3.27)\n",
      "Requirement already satisfied: SQLAlchemy<3.0.0,>=1.4.0 in /usr/local/lib/python3.12/dist-packages (from langchain_community) (2.0.43)\n",
      "Requirement already satisfied: requests<3.0.0,>=2.32.5 in /usr/local/lib/python3.12/dist-packages (from langchain_community) (2.32.5)\n",
      "Requirement already satisfied: PyYAML<7.0.0,>=5.3.0 in /usr/local/lib/python3.12/dist-packages (from langchain_community) (6.0.3)\n",
      "Requirement already satisfied: aiohttp<4.0.0,>=3.8.3 in /usr/local/lib/python3.12/dist-packages (from langchain_community) (3.12.15)\n",
      "Requirement already satisfied: tenacity!=8.4.0,<10.0.0,>=8.1.0 in /usr/local/lib/python3.12/dist-packages (from langchain_community) (8.5.0)\n",
      "Requirement already satisfied: dataclasses-json<0.7.0,>=0.6.7 in /usr/local/lib/python3.12/dist-packages (from langchain_community) (0.6.7)\n",
      "Requirement already satisfied: pydantic-settings<3.0.0,>=2.10.1 in /usr/local/lib/python3.12/dist-packages (from langchain_community) (2.11.0)\n",
      "Requirement already satisfied: langsmith<1.0.0,>=0.1.125 in /usr/local/lib/python3.12/dist-packages (from langchain_community) (0.4.31)\n",
      "Requirement already satisfied: httpx-sse<1.0.0,>=0.4.0 in /usr/local/lib/python3.12/dist-packages (from langchain_community) (0.4.1)\n",
      "Requirement already satisfied: numpy>=1.26.2 in /usr/local/lib/python3.12/dist-packages (from langchain_community) (2.0.2)\n",
      "Requirement already satisfied: aiohappyeyeballs>=2.5.0 in /usr/local/lib/python3.12/dist-packages (from aiohttp<4.0.0,>=3.8.3->langchain_community) (2.6.1)\n",
      "Requirement already satisfied: aiosignal>=1.4.0 in /usr/local/lib/python3.12/dist-packages (from aiohttp<4.0.0,>=3.8.3->langchain_community) (1.4.0)\n",
      "Requirement already satisfied: attrs>=17.3.0 in /usr/local/lib/python3.12/dist-packages (from aiohttp<4.0.0,>=3.8.3->langchain_community) (25.3.0)\n",
      "Requirement already satisfied: frozenlist>=1.1.1 in /usr/local/lib/python3.12/dist-packages (from aiohttp<4.0.0,>=3.8.3->langchain_community) (1.7.0)\n",
      "Requirement already satisfied: multidict<7.0,>=4.5 in /usr/local/lib/python3.12/dist-packages (from aiohttp<4.0.0,>=3.8.3->langchain_community) (6.6.4)\n",
      "Requirement already satisfied: propcache>=0.2.0 in /usr/local/lib/python3.12/dist-packages (from aiohttp<4.0.0,>=3.8.3->langchain_community) (0.3.2)\n",
      "Requirement already satisfied: yarl<2.0,>=1.17.0 in /usr/local/lib/python3.12/dist-packages (from aiohttp<4.0.0,>=3.8.3->langchain_community) (1.20.1)\n",
      "Requirement already satisfied: marshmallow<4.0.0,>=3.18.0 in /usr/local/lib/python3.12/dist-packages (from dataclasses-json<0.7.0,>=0.6.7->langchain_community) (3.26.1)\n",
      "Requirement already satisfied: typing-inspect<1,>=0.4.0 in /usr/local/lib/python3.12/dist-packages (from dataclasses-json<0.7.0,>=0.6.7->langchain_community) (0.9.0)\n",
      "Requirement already satisfied: langchain-text-splitters<1.0.0,>=0.3.9 in /usr/local/lib/python3.12/dist-packages (from langchain<2.0.0,>=0.3.27->langchain_community) (0.3.11)\n",
      "Requirement already satisfied: pydantic<3.0.0,>=2.7.4 in /usr/local/lib/python3.12/dist-packages (from langchain<2.0.0,>=0.3.27->langchain_community) (2.12.0)\n",
      "Requirement already satisfied: jsonpatch<2.0.0,>=1.33.0 in /usr/local/lib/python3.12/dist-packages (from langchain-core<2.0.0,>=0.3.78->langchain_community) (1.33)\n",
      "Requirement already satisfied: typing-extensions<5.0.0,>=4.7.0 in /usr/local/lib/python3.12/dist-packages (from langchain-core<2.0.0,>=0.3.78->langchain_community) (4.15.0)\n",
      "Requirement already satisfied: packaging<26.0.0,>=23.2.0 in /usr/local/lib/python3.12/dist-packages (from langchain-core<2.0.0,>=0.3.78->langchain_community) (25.0)\n",
      "Requirement already satisfied: httpx<1,>=0.23.0 in /usr/local/lib/python3.12/dist-packages (from langsmith<1.0.0,>=0.1.125->langchain_community) (0.28.1)\n",
      "Requirement already satisfied: orjson>=3.9.14 in /usr/local/lib/python3.12/dist-packages (from langsmith<1.0.0,>=0.1.125->langchain_community) (3.11.3)\n",
      "Requirement already satisfied: requests-toolbelt>=1.0.0 in /usr/local/lib/python3.12/dist-packages (from langsmith<1.0.0,>=0.1.125->langchain_community) (1.0.0)\n",
      "Requirement already satisfied: zstandard>=0.23.0 in /usr/local/lib/python3.12/dist-packages (from langsmith<1.0.0,>=0.1.125->langchain_community) (0.25.0)\n",
      "Requirement already satisfied: python-dotenv>=0.21.0 in /usr/local/lib/python3.12/dist-packages (from pydantic-settings<3.0.0,>=2.10.1->langchain_community) (1.1.1)\n",
      "Requirement already satisfied: typing-inspection>=0.4.0 in /usr/local/lib/python3.12/dist-packages (from pydantic-settings<3.0.0,>=2.10.1->langchain_community) (0.4.2)\n",
      "Requirement already satisfied: charset_normalizer<4,>=2 in /usr/local/lib/python3.12/dist-packages (from requests<3.0.0,>=2.32.5->langchain_community) (3.4.3)\n",
      "Requirement already satisfied: idna<4,>=2.5 in /usr/local/lib/python3.12/dist-packages (from requests<3.0.0,>=2.32.5->langchain_community) (3.10)\n",
      "Requirement already satisfied: urllib3<3,>=1.21.1 in /usr/local/lib/python3.12/dist-packages (from requests<3.0.0,>=2.32.5->langchain_community) (2.5.0)\n",
      "Requirement already satisfied: certifi>=2017.4.17 in /usr/local/lib/python3.12/dist-packages (from requests<3.0.0,>=2.32.5->langchain_community) (2025.8.3)\n",
      "Requirement already satisfied: greenlet>=1 in /usr/local/lib/python3.12/dist-packages (from SQLAlchemy<3.0.0,>=1.4.0->langchain_community) (3.2.4)\n",
      "Requirement already satisfied: anyio in /usr/local/lib/python3.12/dist-packages (from httpx<1,>=0.23.0->langsmith<1.0.0,>=0.1.125->langchain_community) (4.11.0)\n",
      "Requirement already satisfied: httpcore==1.* in /usr/local/lib/python3.12/dist-packages (from httpx<1,>=0.23.0->langsmith<1.0.0,>=0.1.125->langchain_community) (1.0.9)\n",
      "Requirement already satisfied: h11>=0.16 in /usr/local/lib/python3.12/dist-packages (from httpcore==1.*->httpx<1,>=0.23.0->langsmith<1.0.0,>=0.1.125->langchain_community) (0.16.0)\n",
      "Requirement already satisfied: jsonpointer>=1.9 in /usr/local/lib/python3.12/dist-packages (from jsonpatch<2.0.0,>=1.33.0->langchain-core<2.0.0,>=0.3.78->langchain_community) (3.0.0)\n",
      "Requirement already satisfied: annotated-types>=0.6.0 in /usr/local/lib/python3.12/dist-packages (from pydantic<3.0.0,>=2.7.4->langchain<2.0.0,>=0.3.27->langchain_community) (0.7.0)\n",
      "Requirement already satisfied: pydantic-core==2.41.1 in /usr/local/lib/python3.12/dist-packages (from pydantic<3.0.0,>=2.7.4->langchain<2.0.0,>=0.3.27->langchain_community) (2.41.1)\n",
      "Requirement already satisfied: mypy-extensions>=0.3.0 in /usr/local/lib/python3.12/dist-packages (from typing-inspect<1,>=0.4.0->dataclasses-json<0.7.0,>=0.6.7->langchain_community) (1.1.0)\n",
      "Requirement already satisfied: sniffio>=1.1 in /usr/local/lib/python3.12/dist-packages (from anyio->httpx<1,>=0.23.0->langsmith<1.0.0,>=0.1.125->langchain_community) (1.3.1)\n",
      "Requirement already satisfied: pydantic in /usr/local/lib/python3.12/dist-packages (2.12.0)\n",
      "Requirement already satisfied: annotated-types>=0.6.0 in /usr/local/lib/python3.12/dist-packages (from pydantic) (0.7.0)\n",
      "Requirement already satisfied: pydantic-core==2.41.1 in /usr/local/lib/python3.12/dist-packages (from pydantic) (2.41.1)\n",
      "Requirement already satisfied: typing-extensions>=4.14.1 in /usr/local/lib/python3.12/dist-packages (from pydantic) (4.15.0)\n",
      "Requirement already satisfied: typing-inspection>=0.4.2 in /usr/local/lib/python3.12/dist-packages (from pydantic) (0.4.2)\n"
     ]
    }
   ],
   "source": [
    "!pip install -U langchain_openai\n",
    "!pip install -U huggingface_hub\n",
    "!pip install -U langchain_community\n",
    "!pip install -U pydantic"
   ]
  },
  {
   "cell_type": "markdown",
   "metadata": {
    "id": "HdJXWKC6Fc2M"
   },
   "source": [
    "## connect to OpenAI gpt API\n",
    "To connect to the OpenAI GPT API, we utilized [AvalAi](https://avalai.ir/). After signing in, we generated an API key specifically for our project."
   ]
  },
  {
   "cell_type": "code",
   "execution_count": 2,
   "metadata": {
    "colab": {
     "base_uri": "https://localhost:8080/"
    },
    "executionInfo": {
     "elapsed": 15469,
     "status": "ok",
     "timestamp": 1760084325160,
     "user": {
      "displayName": "محمد حسین",
      "userId": "13927992254442647854"
     },
     "user_tz": -210
    },
    "id": "75erZyaNEnnv",
    "outputId": "315c7103-31de-4a0b-9ada-40bb1a652eff"
   },
   "outputs": [
    {
     "name": "stdout",
     "output_type": "stream",
     "text": [
      "Tokens Used: 30\n",
      "\tPrompt Tokens: 20\n",
      "\t\tPrompt Tokens Cached: 0\n",
      "\tCompletion Tokens: 10\n",
      "\t\tReasoning Tokens: 0\n",
      "Successful Requests: 1\n",
      "Total Cost (USD): $8.999999999999999e-06\n"
     ]
    }
   ],
   "source": [
    "from langchain_openai import ChatOpenAI,OpenAI\n",
    "from langchain_community.callbacks import get_openai_callback\n",
    "\n",
    "messages = [\n",
    "    {\"role\": \"system\", \"content\": \"You are a helpful assistant.\"},\n",
    "    {\"role\": \"user\", \"content\": \"Hello world!\"},\n",
    "]\n",
    "model_name = \"gpt-4o-mini\" # in this case we want to use gpt-4o-mini\n",
    "\n",
    "\n",
    "llm = ChatOpenAI(\n",
    "    model=model_name,\n",
    "    base_url=\"https://api.avalai.ir/v1\",\n",
    "    temperature=None,\n",
    "    max_tokens=2000, #token limiter\n",
    "    timeout=None,\n",
    "    max_retries=0,\n",
    "\n",
    "\n",
    "\n",
    "    api_key=\"aa-qQ83RCj6StMiojqP9GQXDzWUNENhEbKfBf0n2dKusfAKp7I7\"\n",
    ")\n",
    "# this is testing the API connection and tracking token usage\n",
    "with get_openai_callback() as cb:\n",
    "  response = llm.invoke(messages)\n",
    "  print(cb)\n",
    "\n"
   ]
  },
  {
   "cell_type": "markdown",
   "metadata": {
    "id": "IuBeUjiuIHxe"
   },
   "source": [
    "## Creating a pydantic class for better output format"
   ]
  },
  {
   "cell_type": "code",
   "execution_count": 3,
   "metadata": {
    "executionInfo": {
     "elapsed": 5,
     "status": "ok",
     "timestamp": 1760084325175,
     "user": {
      "displayName": "محمد حسین",
      "userId": "13927992254442647854"
     },
     "user_tz": -210
    },
    "id": "ih0fDFjqISRd"
   },
   "outputs": [],
   "source": [
    "from pydantic import BaseModel, Field, field_validator, model_validator\n",
    "from typing import List, Dict\n",
    "\n",
    "\n",
    "class ProductReviewGap(BaseModel):\n",
    "    \"\"\"Represents gaps and review mentions for a single product.\"\"\"\n",
    "    product_name: str = Field(description=\"Name of the product\")\n",
    "    review_mentions: List[str] = Field(..., description=\"Features or topics mentioned by customers in reviews\")\n",
    "    missing_in_description: List[str] = Field(..., description=\"Features mentioned in reviews but missing from product description (content gaps)\")\n",
    "    # product name must not be empty\n",
    "    @field_validator(\"product_name\")\n",
    "    def validate_product_name(cls, v):\n",
    "        \"\"\"Ensure product name is not empty or only whitespace.\"\"\"\n",
    "        if not v.strip():\n",
    "            raise ValueError(\"product_name cannot be empty or whitespace\")\n",
    "        return v\n",
    "\n",
    "\n",
    "class ContentGapAnalysisResult(BaseModel):\n",
    "    \"\"\"Main model for the content gap analysis result.\"\"\"\n",
    "    common_features: List[str] = Field(..., description=\"Features common to all products\")\n",
    "    unique_features: Dict[str, List[str]] = Field(..., description=\"Unique features for each product; dictionary key = product name\")\n",
    "    customer_gaps: List[ProductReviewGap] = Field(..., description=\"List of gaps and review mentions for each product\")\n",
    "    marketing_insight: str = Field(description=\"A simple, business-oriented summary for the marketing team\")\n",
    "    #key feild must not be empty\n",
    "    @field_validator(\"marketing_insight\")\n",
    "    def validate_not_empty(cls, v, info):\n",
    "        \"\"\"Ensure marketing insight is not empty.\"\"\"\n",
    "        if not v or not v.strip():\n",
    "            raise ValueError(f\"{info.field_name} cannot be empty\")\n",
    "        return v\n",
    "    #Checking the compatibility of product names between different parts\n",
    "    @model_validator(mode=\"after\")\n",
    "    def validate_product_consistency(self):\n",
    "        \"\"\"Ensure all products in customer_gaps exist in unique_features.\"\"\"\n",
    "        if self.unique_features and self.customer_gaps:\n",
    "            product_names_from_unique = set(self.unique_features.keys())\n",
    "            product_names_from_gaps = {gap.product_name for gap in self.customer_gaps}\n",
    "            missing = product_names_from_gaps - product_names_from_unique\n",
    "            if missing:\n",
    "                raise ValueError(\n",
    "                    f\"Products in customer_gaps not found in unique_features: {', '.join(missing)}\"\n",
    "                )\n",
    "        return self\n"
   ]
  },
  {
   "cell_type": "markdown",
   "metadata": {
    "id": "w3Uz8JiItN6g"
   },
   "source": [
    "## Translating the key words for Farsi output"
   ]
  },
  {
   "cell_type": "code",
   "execution_count": 4,
   "metadata": {
    "executionInfo": {
     "elapsed": 10,
     "status": "ok",
     "timestamp": 1760084325188,
     "user": {
      "displayName": "محمد حسین",
      "userId": "13927992254442647854"
     },
     "user_tz": -210
    },
    "id": "LDLs4y8WtJDQ"
   },
   "outputs": [],
   "source": [
    "KEY_MAP = {\n",
    "    \"نام_محصول\": \"product_name\",\n",
    "    \"اشارات_در_نقد\": \"review_mentions\",\n",
    "    \"مفقود_در_توضیحات\": \"missing_in_description\",\n",
    "    \"ویژگی‌های_مشترک\": \"common_features\",\n",
    "    \"ویژگی‌های_منحصر_به_فرد\": \"unique_features\",\n",
    "    \"شکاف‌های_مشتری\": \"customer_gaps\",\n",
    "    \"بینش_بازاریابی\": \"marketing_insight\",\n",
    "    \"between_marketing_insights\": \"marketing_insight\"\n",
    "}\n",
    "\n",
    "def translate_keys(data):\n",
    "    if isinstance(data, dict):\n",
    "        return {KEY_MAP.get(k, k): translate_keys(v) for k, v in data.items()}\n",
    "    elif isinstance(data, list):\n",
    "        return [translate_keys(item) for item in data]\n",
    "    return data"
   ]
  },
  {
   "cell_type": "code",
   "execution_count": 5,
   "metadata": {
    "executionInfo": {
     "elapsed": 40,
     "status": "ok",
     "timestamp": 1760084325230,
     "user": {
      "displayName": "محمد حسین",
      "userId": "13927992254442647854"
     },
     "user_tz": -210
    },
    "id": "cNilfKlzApne"
   },
   "outputs": [],
   "source": [
    "import re\n",
    "\n",
    "def force_json_closure(text: str) -> str:\n",
    "    match = re.search(r\"\\{.*\\}\", text, re.S)\n",
    "    if match:\n",
    "        return match.group()\n",
    "    return \"{}\"\n",
    "# better output format with EN-FA sentences\n",
    "def normalize_mixed_text(text: str) -> str:\n",
    "    text = re.sub(r'[\\u200c\\s]+', ' ', text)\n",
    "    text = re.sub(r'\\s+([,.!?;:])', r'\\1', text)\n",
    "    text = re.sub(r'([،؛؟])\\s*', r'\\1 ', text)\n",
    "    text = re.sub(r'([آ-ی])([A-Za-z0-9])', r'\\1 \\2', text)\n",
    "    text = re.sub(r'([A-Za-z0-9])([آ-ی])', r'\\1 \\2', text)\n",
    "    text = re.sub(r'\\(\\s+', '(', text)\n",
    "    text = re.sub(r'\\s+\\)', ')', text)\n",
    "    return text.strip()"
   ]
  },
  {
   "cell_type": "markdown",
   "metadata": {
    "id": "elfAnZnEOsLg"
   },
   "source": [
    "# Prompting The Model"
   ]
  },
  {
   "cell_type": "code",
   "execution_count": 6,
   "metadata": {
    "executionInfo": {
     "elapsed": 310,
     "status": "ok",
     "timestamp": 1760084325549,
     "user": {
      "displayName": "محمد حسین",
      "userId": "13927992254442647854"
     },
     "user_tz": -210
    },
    "id": "rFq0MpGSLtXm"
   },
   "outputs": [],
   "source": [
    "import json\n",
    "from pydantic import ValidationError\n",
    "\n",
    "def analyze_content_gaps(input_file: str, output_file: str ):\n",
    "    with open(input_file, \"r\", encoding=\"utf-8\") as f:\n",
    "        content = f.read()\n",
    "\n",
    "    messages = [\n",
    "    {\n",
    "        \"role\": \"system\",\n",
    "        \"content\": \"\"\"\n",
    "شما یک دستیار هوش مصنوعی برای **تحلیل شکاف محتوا** هستید.\n",
    "\n",
    "وظیفه شما مقایسه توضیحات محصول و نظرات مشتریان است.\n",
    "\n",
    "سپس شکاف‌ها و بینش‌ها را در قالبی ساختاریافته شناسایی کنید.\n",
    "\n",
    "### فرمت خروجی (JSON دقیقاً از این الگو پیروی می‌کند)\n",
    "\n",
    "{\n",
    "\"ویژگی‌های_مشترک\": [\n",
    "\"string\",\n",
    "\"... ویژگی‌های بیشتر\"\n",
    "],\n",
    "\"ویژگی‌های_منحصر_به_فرد\": {\n",
    "\"نام_محصول1\": [\"ویژگی1\", \"ویژگی2\"],\n",
    "\"نام_محصول2\": [\"ویژگیA\"]\n",
    "},\n",
    "\"شکاف‌های_مشتری\": [\n",
    "{\n",
    "\"نام_محصول\": \"string\",\n",
    "\"اشارات_در_نقد\": [\n",
    "\"ویژگی1\",\n",
    "\"ویژگی2\"\n",
    "],\n",
    "\"مفقود_در_توضیحات\": [\n",
    "\"ویژگیX\",\n",
    "\"ویژگیY\"\n",
    "]\n",
    "}\n",
    "],\n",
    "\"بینش_بازاریابی\": \"خلاصه‌ای کوتاه به زبان تجاری،\n",
    "برجسته کردن آنچه که بازاریابی باید بر آن تأکید کند یا بهبود بخشد.\"\n",
    "\n",
    "}\n",
    "\n",
    "### قوانین سختگیرانه\n",
    "۱. \"ویژگی‌های_مشترک\": باید فقط شامل ویژگی‌هایی باشد که در توضیحات **همه محصولات** آمده‌اند.\n",
    "\n",
    "- اگر یک ویژگی حتی در یک محصول وجود ندارد، آن را ذکر نکنید.\n",
    "\n",
    "۲. \"ویژگی‌های_منحصر_به_فرد\": باید فقط شامل ویژگی‌هایی باشد که **منحصراً مختص آن محصول** هستند.\n",
    "\n",
    "- اگر یک ویژگی بین دو یا چند محصول مشترک است، آن را اینجا ذکر نکنید.\n",
    "\n",
    "۳. \"شکاف‌های_مشتری\":\n",
    "\n",
    "- برای هر محصول، موضوعاتی را که مشتریان در نقدها ذکر کرده‌اند، فهرست کنید.\n",
    "\n",
    "- در قسمت \"مفقود_در_توضیحات\"، فقط موضوعاتی را در نقدها ذکر کنید که در توضیحات آن محصول ذکر نشده‌اند.\n",
    "\n",
    "۴. \"بینش_بازاریابی\": ۳-۴ جمله به زبان انگلیسی ساده تجاری بنویسید و خلاصه‌ای از مهمترین یافته‌ها و آنچه بازاریابی باید روی آن تمرکز کند، ارائه دهید.\n",
    "\n",
    "### قوانین خروجی\n",
    "- خروجی باید یک شیء **معتبر JSON** باشد که بتواند مستقیماً توسط json.loads() تجزیه شود.\n",
    "\n",
    "- هرگز آرایه‌ها یا اشیاء را بسته نشده رها نکنید.\n",
    "\n",
    "- پاسخ را قطع نکنید. همیشه شیء JSON کامل را برگردانید.\n",
    "\n",
    "- برای کلیدها و رشته‌ها از علامت نقل قول دوتایی استفاده کنید.\n",
    "\n",
    "- بدون توضیح، بدون نظر، بدون متن اضافی خارج از JSON.\n",
    "\n",
    "- همیشه آرایه‌ها [] و اشیاء {} را به درستی ببندید.\n",
    "\n",
    "- تعداد محصولات ورودی همیشه ثابت نیست.\n",
    "\n",
    "- اگر هیچ نظری برای یک محصول وجود ندارد، customer_gaps را خالی بگذارید.\n",
    "\"\"\"\n",
    "    },\n",
    "          #Example for better performance\n",
    "\n",
    "         {\"role\": \"user\", \"content\": \"\"\"محصولات:\n",
    "هارد اکسترنال وسترن دیجیتال مای پاسپورت، ظرفیت ۱ ترابایت (digikala):\n",
    "\n",
    "توضیحات:\n",
    "هارد اکسترنال مای پاسپورت محصولی از شرکت وسترن دیجیتال است که از طریق رابط USB3.0 به رایانه شما متصل می‌شود و به شما کمک می‌کند تا اطلاعات را با سرعت بالا ذخیره کنید. ظرفیت این هارد یک ترابایت است و برای کاربرانی که اطلاعات زیادی برای ذخیره دارند، گزینه بسیار مناسبی است. هارد اکسترنال وسترن دیجیتال مای پاسپورت با تمام سیستم عامل‌های رایج از جمله نسخه‌های مختلف سیستم عامل ویندوز سازگار است. هارد اکسترنال مای پاسپورت در رنگ‌های مختلف عرضه می‌شود، بنابراین برای هر سلیقه‌ای انتخاب مناسبی وجود خواهد داشت. نسل چهارم هارد اکسترنال‌های مای پاسپورت از سال ۲۰۱۹ با طراحی زیبا وارد بازار شده است. سرعت انتقال اطلاعات با هارد اکسترنال وسترن دیجیتال ۵ گیگابایت بر ثانیه است. شایان ذکر است که این هارد اکسترنال وسترن دیجیتال به دلیل وزن سبک خود به راحتی قابل حمل است. سرعت چرخش این هارد اکسترنال نیز ۵۴۰۰ دور در دقیقه است.\n",
    "\n",
    "\n",
    "نقد و بررسی‌ها:\n",
    "- \"دوستان، آیا این هارد دیسک می‌تواند به تلفن همراه متصل شود؟ اندروید؟\"\n",
    "- \"سلام، آیا از Xbox Series S پشتیبانی می‌کند؟\"\n",
    "- \"سلام، گارانتی از چه شرکتی است؟ و آیا معتبر است؟\"\n",
    "\n",
    "هارد اکسترنال Western Digital My Passport، ظرفیت ۱ ترابایت (technolife):\n",
    "\n",
    "توضیحات:\n",
    "وزن: ۱۲۲.۴ گرم\n",
    "ابعاد: ۱۰۷.۲x۷۵x۱۱.۲ میلی‌متر\n",
    "نوع رابط: USB 3.0\n",
    "ظرفیت: ۱ ترابایت\n",
    "اندازه هد: ۲.۵ اینچ\n",
    "سرعت انتقال داده: ۵ گیگابیت بر ثانیه\n",
    "نشانگر LED: ندارد\n",
    "سایر مشخصات: پشتیبان‌گیری خودکار از طریق نرم‌افزار، محافظت با رمز عبور برای امنیت، پشتیبانی از رمزگذاری AES 256 بیتی\n",
    "\n",
    "نقد و بررسی‌ها:\n",
    "- \"ببخشید، آیا می‌توان از آن با ویندوز ۱۱ استفاده کرد؟!\"\n",
    "- \"سلام، می‌خواستم بدانم که آیا می‌توان آن را به مک‌بوک متصل کرد؟\"\n",
    "- \"سلام، صبح بخیر. من یک فیلمبردار هستم. به نظر شما یک هارد اکسترنال ۱ ترابایتی برای ویدیوهای اینستاگرام کافی است؟\"\n",
    "\n",
    "هارد اکسترنال وسترن دیجیتال مای پاسپورت، ظرفیت ۱ ترابایت (arbabashop):\n",
    "\n",
    "توضیحات:\n",
    "بررسی هارد اکسترنال WD My Passport 1TB\n",
    "هارد اکسترنال وسترن دیجیتال مای پاسپورت ۱ ترابایتی یکی از محبوب‌ترین و پرفروش‌ترین هارد دیسک‌های قابل حمل موجود در بازار است. این محصول با طراحی کوچک و سبک خود، گزینه‌ای ایده‌آل برای افرادی است که به دنبال فضایی امن برای ذخیره اطلاعات شخصی، کاری یا پشتیبان‌گیری هستند. برند WD سال‌هاست که به عنوان یکی از معتبرترین تولیدکنندگان تجهیزات ذخیره‌سازی شناخته می‌شود و سری My Passport یکی از پرچمداران آن است.\n",
    "\n",
    "طراحی و ساخت\n",
    "بدنه جمع و جور و سبک، مناسب برای حمل روزانه\n",
    "موجود در رنگ‌های متنوع برای سلیقه‌های مختلف\n",
    "استفاده از پورت Micro-B (سازگار با USB 3.2 Gen 1 و USB 2.0)\n",
    "کیفیت ساخت خوب با طراحی ضد لغزش برای جلوگیری از لغزش روی سطوح\n",
    "مشخصات فنی\n",
    "ظرفیت ذخیره‌سازی: ۱ ترابایت\n",
    "رابط اتصال: USB 3.2 Gen 1 (سرعت تا ۵ گیگابیت بر ثانیه)\n",
    "امنیت: رمزگذاری سخت‌افزاری AES 256 بیتی + قابلیت رمزگذاری با رمز عبور\n",
    "نرم‌افزار: WD Backup، WD Discovery، WD Security برای مدیریت و پشتیبان‌گیری\n",
    "ابعاد: ۱۰۷ × ۷۵ × ۱۱ میلی‌متر\n",
    "وزن: حدود ۱۲۰ گرم\n",
    "گارانتی: ۳ سال\n",
    "عملکرد و سرعت\n",
    "طبق آزمایش‌ها، سرعت انتقال داده این هارد دیسک:\n",
    "خواندن: حدود ۱۲۰ تا ۱۳۵ مگابایت بر ثانیه\n",
    "نوشتن: حدود ۱۱۰ تا ۱۲۵ مگابایت بر ثانیه\n",
    "این سرعت برای ... بسیار خوب است هارد دیسک است و به راحتی می‌تواند فیلم، عکس، موسیقی و فایل‌های بزرگ را ذخیره کند.\n",
    "\n",
    "مزایا\n",
    "✅ قیمت مقرون به صرفه و اقتصادی در مقایسه با ظرفیت\n",
    "✅ طراحی سبک و قابل حمل\n",
    "✅ پشتیبانی از رمزگذاری سخت‌افزاری برای امنیت داده‌ها\n",
    "✅ نرم‌افزار مدیریت و پشتیبان‌گیری WD\n",
    "✅ سازگاری با ویندوز و مک\n",
    "\"\"\"},\n",
    "         {\"role\": \"assistant\", \"content\":\"\"\"{\n",
    "  \"common_features\": [\n",
    "    \"ظرفیت 1 ترابایت\",\n",
    "    \"طراحی سبک و قابل حمل\",\n",
    "    \"رابط USB 3.0\",\n",
    "    \"سرعت انتقال داده تا 5 گیگابیت بر ثانیه\",\n",
    "    \"موجود در رنگ‌های مختلف\"\n",
    "  ],\n",
    "  \"unique_features\": {\n",
    "    \"هارد اکسترنال وسترن دیجیتال مای پاسپورت (دیجیکالا)\": [\n",
    "      \"سرعت چرخش 5400 دور در دقیقه\",\n",
    "      \"سازگار با تمام سیستم عامل‌های رایج\",\n",
    "      \"معرفی شده در سال 2019 (نسل چهارم)\"\n",
    "    ],\n",
    "    \"هارد اکسترنال Western Digital My Passport (تکنولایف)\": [\n",
    "      \"بدون نشانگر LED\",\n",
    "      \"پشتیبان‌گیری خودکار از طریق نرم‌افزار\",\n",
    "      \"محافظت با رمز عبور\",\n",
    "      \"رمزگذاری AES 256 بیتی\"\n",
    "    ],\n",
    "    \"هارد اکسترنال وسترن دیجیتال مای پاسپورت (اربب شاپ)\": [\n",
    "      \"طراحی ضد لغزش\",\n",
    "      \"پورت USB 3.2 Gen 1 + Micro-B\",\n",
    "      \"نرم‌افزارهای WD Backup, WD Discovery, WD Security\",\n",
    "      \"3 سال گارانتی\",\n",
    "      \"سرعت خواندن 120-135 مگابایت بر ثانیه، سرعت نوشتن 110-125 مگابایت بر ثانیه\",\n",
    "      \"قیمت مقرون به صرفه\"\n",
    "    ]\n",
    "  },\n",
    "  \"customer_gaps\": [\n",
    "    {\n",
    "      \"نام_محصول\": \"هارد اکسترنال وسترن دیجیتال مای پاسپورت (دیجیکالا)\",\n",
    "      \"اشارات_در_نقد\": [\n",
    "        \"سازگاری با تلفن همراه (اندروید)\",\n",
    "        \"پشتیبانی از Xbox Series S\",\n",
    "        \"شرکت گارانتی کننده\"\n",
    "      ],\n",
    "      \"مفقود_در_توضیحات\": [\n",
    "        \"سازگاری با تلفن همراه\",\n",
    "        \"سازگاری با Xbox Series S\",\n",
    "        \"جزئیات گارانتی\"\n",
    "      ]\n",
    "    },\n",
    "    {\n",
    "      \"نام_محصول\": \"هارد اکسترنال Western Digital My Passport (تکنولایف)\",\n",
    "      \"اشارات_در_نقد\": [\n",
    "        \"سازگاری با ویندوز 11\",\n",
    "        \"سازگاری با مک‌بوک\",\n",
    "        \"کفایت حافظه برای فیلمبرداران\"\n",
    "      ],\n",
    "      \"مفقود_در_توضیحات\": [\n",
    "        \"سازگاری با ویندوز 11\",\n",
    "        \"سازگاری با مک‌بوک\",\n",
    "        \"راهنمایی برای استفاده در فیلمبرداری\"\n",
    "      ]\n",
    "    },\n",
    "    {\n",
    "      \"نام_محصول\": \"هارد اکسترنال وسترن دیجیتال مای پاسپورت (اربب شاپ)\",\n",
    "      \"اشارات_در_نقد\": [],\n",
    "      \"مفقود_در_توضیحات\": []\n",
    "    }\n",
    "  ],\n",
    "  \"بینش_بازاریابی\": \"همه صفحات محصول اصلی ویژگی‌هایی مانند ظرفیت 1 ترابایت، قابلیت حمل و عملکرد USB 3.0 را برجسته می‌کنند، اما هر کدام نقاط فروش منحصر به فردی مانند امنیت، طراحی بدنه یا گارانتی دارند. نظرات مشتریان به طور مداوم در مورد سازگاری با دستگاه‌های تلفن همراه، کنسول‌های بازی، ویندوز 11 و مک‌بوک سوال می‌پرسند - با این حال هیچ یک از توضیحات به صراحت به این نگرانی‌ها پاسخ نمی‌دهند. بازاریابی باید بر سازگاری بین پلتفرم‌ها تأکید کند، جزئیات واضح گارانتی را درج کند و راهنمایی برای موارد استفاده خاص مانند بازی و تولید محتوا ارائه دهد. برجسته کردن ویژگی‌های امنیتی قوی و پشتیبانی نرم‌افزاری نیز محصول را در بازار رقابتی متمایز خواهد کرد.\"}\"\"\" },\n",
    "\n",
    "         #using own data\n",
    "         {\"role\": \"user\",\"content\": content}\n",
    "    ]\n",
    "\n",
    "    try:\n",
    "        with get_openai_callback() as cb:\n",
    "            response = llm.invoke(messages)\n",
    "\n",
    "        print(cb)  # usage stats\n",
    "\n",
    "        cleaned = force_json_closure(response.content.strip())\n",
    "        data = json.loads(cleaned)\n",
    "        data = translate_keys(data) # Keep the fix_keys function call\n",
    "        result = ContentGapAnalysisResult(**data)\n",
    "        with open(output_file, 'w',encoding=\"utf-8\") as f:\n",
    "          json.dump(result.model_dump(by_alias=True), f, indent=2, ensure_ascii=False)\n",
    "        print(\"---------\")\n",
    "        print(f\"✅ نتیجه با موفقیت در فایل ذخیره شد: {output_file}\")\n",
    "\n",
    "    except ValidationError as e:\n",
    "        print(\"\\n خروجی مدل با ساختار مورد انتظار هم‌خوانی ندارد!\")\n",
    "        print(\"-\" * 40)\n",
    "        print(\"جزئیات خطا:\")\n",
    "        print(e.errors())\n",
    "        print(\"-\" * 40)\n",
    "        print(\" خروجی خام مدل:\\n\", response.content)\n",
    "\n",
    "    except Exception as e:\n",
    "        print(\"\\n⚠️ خطای غیرمنتظره‌ای رخ داد!\")\n",
    "        print(\"-\" * 40)\n",
    "        print(\"🔍 جزئیات خطا:\", repr(e))\n",
    "        print(\"-\" * 40)\n",
    "        print(\" خروجی خام مدل:\\n\", response.content)"
   ]
  },
  {
   "cell_type": "code",
   "execution_count": null,
   "metadata": {
    "colab": {
     "base_uri": "https://localhost:8080/"
    },
    "executionInfo": {
     "elapsed": 7952,
     "status": "ok",
     "timestamp": 1760084333504,
     "user": {
      "displayName": "محمد حسین",
      "userId": "13927992254442647854"
     },
     "user_tz": -210
    },
    "id": "3AuCwLqlOve-",
    "outputId": "0412fdef-3b7e-429d-fa6f-53de24003c49"
   },
   "outputs": [
    {
     "name": "stdout",
     "output_type": "stream",
     "text": [
      "Tokens Used: 5671\n",
      "\tPrompt Tokens: 4931\n",
      "\t\tPrompt Tokens Cached: 0\n",
      "\tCompletion Tokens: 740\n",
      "\t\tReasoning Tokens: 0\n",
      "Successful Requests: 1\n",
      "Total Cost (USD): $0.0011836499999999998\n",
      "---------\n",
      "✅ نتیجه با موفقیت در فایل ذخیره شد: output.txt\n"
     ]
    }
   ],
   "source": [
    "result = analyze_content_gaps(\"input.txt\",\"output.json\")"
   ]
  },
  {
   "cell_type": "code",
   "execution_count": 7,
   "metadata": {
    "executionInfo": {
     "elapsed": 2,
     "status": "ok",
     "timestamp": 1760084333508,
     "user": {
      "displayName": "محمد حسین",
      "userId": "13927992254442647854"
     },
     "user_tz": -210
    },
    "id": "q9jHp6wBrseg"
   },
   "outputs": [],
   "source": []
  }
 ],
 "metadata": {
  "colab": {
   "authorship_tag": "ABX9TyMjZOMDXLbsNCOdPZdQ/+/z",
   "provenance": []
  },
  "kernelspec": {
   "display_name": "Python 3",
   "name": "python3"
  },
  "language_info": {
   "name": "python"
  }
 },
 "nbformat": 4,
 "nbformat_minor": 0
}
